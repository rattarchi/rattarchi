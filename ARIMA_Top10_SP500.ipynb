{
  "nbformat": 4,
  "nbformat_minor": 0,
  "metadata": {
    "colab": {
      "provenance": []
    },
    "kernelspec": {
      "name": "python3",
      "display_name": "Python 3"
    },
    "language_info": {
      "name": "python"
    }
  },
  "cells": [
    {
      "cell_type": "code",
      "execution_count": null,
      "metadata": {
        "id": "_dWr1ljKXH-f"
      },
      "outputs": [],
      "source": [
        "#Extracting tickers in S&P500 that are founded before 2021.\n",
        "\n",
        "import pandas as pd\n",
        "\n",
        "wiki = 'https://en.wikipedia.org/wiki/List_of_S%26P_500_companies'\n",
        "\n",
        "tables = pd.read_html(wiki)\n",
        "SP500 = tables[0]\n",
        "\n",
        "SP500_2021 = SP500.loc[SP500['Founded'].str[:4].astype(int) < 2021, 'Symbol']\n",
        "tickers2021 = [s.replace('.', '-') for s in SP500_2021]"
      ]
    },
    {
      "cell_type": "code",
      "source": [
        "#Download data from yfinance for selected tickers of the previous part.\n",
        "\n",
        "import yfinance as yf\n",
        "\n",
        "Data = {}\n",
        "for x in tickers2021:\n",
        "  Data[x] = yf.download(x, period='1y', interval='1d', progress=False)"
      ],
      "metadata": {
        "id": "4fTYTF6zXKp1"
      },
      "execution_count": null,
      "outputs": []
    },
    {
      "cell_type": "code",
      "source": [
        "#FIRST METRIC: This metric gives more weight to stocks with significant price increases and higher trading volumes.\n",
        "\n",
        "import math\n",
        "import numpy as np\n",
        "\n",
        "Scores1 = []\n",
        "\n",
        "for x in tickers2021:\n",
        "  Price_change = (Data[x]['Close'][-1] - Data[x]['Close'][0]) / Data[x]['Close'][0]\n",
        "  Ave_vol = sum(Data[x]['Volume'])/len(Data[x]['Volume'])\n",
        "  Adj_Score = Price_change * math.log(Ave_vol)\n",
        "  Scores1.append([x, Adj_Score])\n",
        "\n",
        "Scores1.sort(key=lambda x: x[1], reverse = True)\n",
        "Top10_1 = Scores1[:10]"
      ],
      "metadata": {
        "id": "vadzjQTDXOMo"
      },
      "execution_count": null,
      "outputs": []
    },
    {
      "cell_type": "code",
      "source": [
        "#SECOND METRIC: Linear extrapolation\n",
        "\n",
        "from sklearn.model_selection import train_test_split\n",
        "from sklearn.linear_model import LinearRegression\n",
        "\n",
        "slope_parameter = []\n",
        "\n",
        "for x in tickers2021:\n",
        "  Temp = Data[x]\n",
        "  X_train = np.array([i for i in range(len(Temp))]).reshape(-1, 1)\n",
        "  y_train = Temp['Close'].values.reshape(-1, 1)\n",
        "  model = LinearRegression()\n",
        "  model.fit(X_train, y_train)\n",
        "  slope_parameter.append([x, model.coef_[0][0]])\n",
        "\n",
        "for x in slope_parameter:\n",
        "  temp = x[1]*30/Data[x[0]]['Close'][-1]\n",
        "  x[1] = temp\n",
        "slope_parameter.sort(key=lambda x: x[1], reverse = True)\n",
        "Top10_2 = slope_parameter[:10]"
      ],
      "metadata": {
        "id": "tghPNG0sXQtj"
      },
      "execution_count": null,
      "outputs": []
    },
    {
      "cell_type": "code",
      "source": [
        "#THIRD SCORE: ARIMA\n",
        "\n",
        "from statsmodels.tsa.stattools import adfuller\n",
        "from statsmodels.graphics.tsaplots import plot_acf, plot_pacf\n",
        "import itertools\n",
        "import statsmodels.api as sm\n",
        "\n",
        "Scores3 =[]\n",
        "\n",
        "for x in tickers2021:\n",
        "  x = slope_parameter[i][0]\n",
        "  Close = Data[x]['Close']\n",
        "  p = q = range(0, 5)\n",
        "  d = range(0, 3)\n",
        "  pdq = list(itertools.product(p, d, q))\n",
        "  results = []\n",
        "  for param in pdq:\n",
        "    try:\n",
        "        model = sm.tsa.ARIMA(Close, order=param)\n",
        "        model_fit = model.fit()\n",
        "        results.append([param, model_fit.aic])\n",
        "    except:\n",
        "        continue\n",
        "  results.sort(key=lambda x: x[1])\n",
        "  best_params = results[0][0]\n",
        "  model = sm.tsa.ARIMA(Close, order=best_params)\n",
        "  model_fit = model.fit()\n",
        "  forecast = model_fit.forecast(steps= 30)\n",
        "  Scores3.append([x, 100*(forecast[280] - Close[-1])/Close[-1], best_params])\n",
        "\n",
        "Scores3.sort(key=lambda x: x[1], reverse = True)\n",
        "Top10_3 = Scores3[:10]\n",
        "print(Top10_3)"
      ],
      "metadata": {
        "id": "7MOwhZYdXRvD"
      },
      "execution_count": null,
      "outputs": []
    },
    {
      "cell_type": "code",
      "source": [
        "#Pie plot for Top10 of Score 1\n",
        "\n",
        "import matplotlib.pyplot as plt\n",
        "\n",
        "labels = [x[0] for x in Top10_1]\n",
        "sizes = [x[1] for x in Top10_1]\n",
        "\n",
        "fig, ax = plt.subplots()\n",
        "ax.pie(sizes, labels=labels, autopct='%1.1f%%', startangle=90)\n",
        "\n",
        "ax.axis('equal')\n",
        "plt.show()"
      ],
      "metadata": {
        "id": "Um4Ij2gIYAZT"
      },
      "execution_count": null,
      "outputs": []
    },
    {
      "cell_type": "code",
      "source": [
        "#Pie plot for Top10 of Score 2\n",
        "\n",
        "labels = [x[0] for x in Top10_2]\n",
        "sizes = [x[1] for x in Top10_2]\n",
        "\n",
        "fig, ax = plt.subplots()\n",
        "ax.pie(sizes, labels=labels, autopct='%1.1f%%', startangle=90)\n",
        "\n",
        "ax.axis('equal')\n",
        "plt.show()"
      ],
      "metadata": {
        "id": "iJ9RVkLgYC5s"
      },
      "execution_count": null,
      "outputs": []
    },
    {
      "cell_type": "code",
      "source": [
        "#Pie plot for Top10 of Score 3\n",
        "\n",
        "labels = [x[0] for x in Top10_3]\n",
        "sizes = [x[1] for x in Top10_3]\n",
        "\n",
        "fig, ax = plt.subplots()\n",
        "ax.pie(sizes, labels=labels, autopct='%1.1f%%', startangle=90)\n",
        "\n",
        "ax.axis('equal')\n",
        "plt.show()"
      ],
      "metadata": {
        "id": "-WaIRHkMYFW8"
      },
      "execution_count": null,
      "outputs": []
    }
  ]
}